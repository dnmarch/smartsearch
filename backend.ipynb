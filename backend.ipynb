{
  "nbformat": 4,
  "nbformat_minor": 0,
  "metadata": {
    "colab": {
      "name": "backend3.ipynb",
      "provenance": [],
      "collapsed_sections": []
    },
    "kernelspec": {
      "name": "python3",
      "display_name": "Python 3"
    },
    "accelerator": "GPU"
  },
  "cells": [
    {
      "cell_type": "code",
      "metadata": {
        "colab": {
          "base_uri": "https://localhost:8080/"
        },
        "id": "2-jPSyviqYFx",
        "outputId": "40793277-3029-4155-9d76-11913785d62f"
      },
      "source": [
        "!nvidia-smi"
      ],
      "execution_count": 1,
      "outputs": [
        {
          "output_type": "stream",
          "text": [
            "NVIDIA-SMI has failed because it couldn't communicate with the NVIDIA driver. Make sure that the latest NVIDIA driver is installed and running.\n",
            "\n"
          ],
          "name": "stdout"
        }
      ]
    },
    {
      "cell_type": "code",
      "metadata": {
        "colab": {
          "base_uri": "https://localhost:8080/"
        },
        "id": "n3etMVaCsQ2p",
        "outputId": "428119e7-6125-40fb-8d92-73ad47a83772"
      },
      "source": [
        "!pip install flask-ngrok\r\n",
        "!pip install flask-cors\r\n",
        "!pip install transformers\r\n",
        "!pip install -U sentence-transformers"
      ],
      "execution_count": 3,
      "outputs": [
        {
          "output_type": "stream",
          "text": [
            "Requirement already satisfied: flask-ngrok in /usr/local/lib/python3.7/dist-packages (0.0.25)\n",
            "Requirement already satisfied: requests in /usr/local/lib/python3.7/dist-packages (from flask-ngrok) (2.23.0)\n",
            "Requirement already satisfied: Flask>=0.8 in /usr/local/lib/python3.7/dist-packages (from flask-ngrok) (1.1.2)\n",
            "Requirement already satisfied: idna<3,>=2.5 in /usr/local/lib/python3.7/dist-packages (from requests->flask-ngrok) (2.10)\n",
            "Requirement already satisfied: urllib3!=1.25.0,!=1.25.1,<1.26,>=1.21.1 in /usr/local/lib/python3.7/dist-packages (from requests->flask-ngrok) (1.24.3)\n",
            "Requirement already satisfied: chardet<4,>=3.0.2 in /usr/local/lib/python3.7/dist-packages (from requests->flask-ngrok) (3.0.4)\n",
            "Requirement already satisfied: certifi>=2017.4.17 in /usr/local/lib/python3.7/dist-packages (from requests->flask-ngrok) (2020.12.5)\n",
            "Requirement already satisfied: itsdangerous>=0.24 in /usr/local/lib/python3.7/dist-packages (from Flask>=0.8->flask-ngrok) (1.1.0)\n",
            "Requirement already satisfied: click>=5.1 in /usr/local/lib/python3.7/dist-packages (from Flask>=0.8->flask-ngrok) (7.1.2)\n",
            "Requirement already satisfied: Jinja2>=2.10.1 in /usr/local/lib/python3.7/dist-packages (from Flask>=0.8->flask-ngrok) (2.11.3)\n",
            "Requirement already satisfied: Werkzeug>=0.15 in /usr/local/lib/python3.7/dist-packages (from Flask>=0.8->flask-ngrok) (1.0.1)\n",
            "Requirement already satisfied: MarkupSafe>=0.23 in /usr/local/lib/python3.7/dist-packages (from Jinja2>=2.10.1->Flask>=0.8->flask-ngrok) (1.1.1)\n",
            "Requirement already satisfied: flask-cors in /usr/local/lib/python3.7/dist-packages (3.0.10)\n",
            "Requirement already satisfied: Six in /usr/local/lib/python3.7/dist-packages (from flask-cors) (1.15.0)\n",
            "Requirement already satisfied: Flask>=0.9 in /usr/local/lib/python3.7/dist-packages (from flask-cors) (1.1.2)\n",
            "Requirement already satisfied: click>=5.1 in /usr/local/lib/python3.7/dist-packages (from Flask>=0.9->flask-cors) (7.1.2)\n",
            "Requirement already satisfied: Werkzeug>=0.15 in /usr/local/lib/python3.7/dist-packages (from Flask>=0.9->flask-cors) (1.0.1)\n",
            "Requirement already satisfied: Jinja2>=2.10.1 in /usr/local/lib/python3.7/dist-packages (from Flask>=0.9->flask-cors) (2.11.3)\n",
            "Requirement already satisfied: itsdangerous>=0.24 in /usr/local/lib/python3.7/dist-packages (from Flask>=0.9->flask-cors) (1.1.0)\n",
            "Requirement already satisfied: MarkupSafe>=0.23 in /usr/local/lib/python3.7/dist-packages (from Jinja2>=2.10.1->Flask>=0.9->flask-cors) (1.1.1)\n",
            "Requirement already satisfied: transformers in /usr/local/lib/python3.7/dist-packages (4.3.3)\n",
            "Requirement already satisfied: importlib-metadata; python_version < \"3.8\" in /usr/local/lib/python3.7/dist-packages (from transformers) (3.7.2)\n",
            "Requirement already satisfied: regex!=2019.12.17 in /usr/local/lib/python3.7/dist-packages (from transformers) (2019.12.20)\n",
            "Requirement already satisfied: numpy>=1.17 in /usr/local/lib/python3.7/dist-packages (from transformers) (1.19.5)\n",
            "Requirement already satisfied: packaging in /usr/local/lib/python3.7/dist-packages (from transformers) (20.9)\n",
            "Requirement already satisfied: sacremoses in /usr/local/lib/python3.7/dist-packages (from transformers) (0.0.43)\n",
            "Requirement already satisfied: filelock in /usr/local/lib/python3.7/dist-packages (from transformers) (3.0.12)\n",
            "Requirement already satisfied: tokenizers<0.11,>=0.10.1 in /usr/local/lib/python3.7/dist-packages (from transformers) (0.10.1)\n",
            "Requirement already satisfied: tqdm>=4.27 in /usr/local/lib/python3.7/dist-packages (from transformers) (4.41.1)\n",
            "Requirement already satisfied: requests in /usr/local/lib/python3.7/dist-packages (from transformers) (2.23.0)\n",
            "Requirement already satisfied: typing-extensions>=3.6.4; python_version < \"3.8\" in /usr/local/lib/python3.7/dist-packages (from importlib-metadata; python_version < \"3.8\"->transformers) (3.7.4.3)\n",
            "Requirement already satisfied: zipp>=0.5 in /usr/local/lib/python3.7/dist-packages (from importlib-metadata; python_version < \"3.8\"->transformers) (3.4.1)\n",
            "Requirement already satisfied: pyparsing>=2.0.2 in /usr/local/lib/python3.7/dist-packages (from packaging->transformers) (2.4.7)\n",
            "Requirement already satisfied: click in /usr/local/lib/python3.7/dist-packages (from sacremoses->transformers) (7.1.2)\n",
            "Requirement already satisfied: six in /usr/local/lib/python3.7/dist-packages (from sacremoses->transformers) (1.15.0)\n",
            "Requirement already satisfied: joblib in /usr/local/lib/python3.7/dist-packages (from sacremoses->transformers) (1.0.1)\n",
            "Requirement already satisfied: certifi>=2017.4.17 in /usr/local/lib/python3.7/dist-packages (from requests->transformers) (2020.12.5)\n",
            "Requirement already satisfied: urllib3!=1.25.0,!=1.25.1,<1.26,>=1.21.1 in /usr/local/lib/python3.7/dist-packages (from requests->transformers) (1.24.3)\n",
            "Requirement already satisfied: idna<3,>=2.5 in /usr/local/lib/python3.7/dist-packages (from requests->transformers) (2.10)\n",
            "Requirement already satisfied: chardet<4,>=3.0.2 in /usr/local/lib/python3.7/dist-packages (from requests->transformers) (3.0.4)\n",
            "Requirement already up-to-date: sentence-transformers in /usr/local/lib/python3.7/dist-packages (0.4.1.2)\n",
            "Requirement already satisfied, skipping upgrade: scikit-learn in /usr/local/lib/python3.7/dist-packages (from sentence-transformers) (0.22.2.post1)\n",
            "Requirement already satisfied, skipping upgrade: tqdm in /usr/local/lib/python3.7/dist-packages (from sentence-transformers) (4.41.1)\n",
            "Requirement already satisfied, skipping upgrade: transformers<5.0.0,>=3.1.0 in /usr/local/lib/python3.7/dist-packages (from sentence-transformers) (4.3.3)\n",
            "Requirement already satisfied, skipping upgrade: sentencepiece in /usr/local/lib/python3.7/dist-packages (from sentence-transformers) (0.1.95)\n",
            "Requirement already satisfied, skipping upgrade: scipy in /usr/local/lib/python3.7/dist-packages (from sentence-transformers) (1.4.1)\n",
            "Requirement already satisfied, skipping upgrade: torch>=1.6.0 in /usr/local/lib/python3.7/dist-packages (from sentence-transformers) (1.8.0+cu101)\n",
            "Requirement already satisfied, skipping upgrade: numpy in /usr/local/lib/python3.7/dist-packages (from sentence-transformers) (1.19.5)\n",
            "Requirement already satisfied, skipping upgrade: nltk in /usr/local/lib/python3.7/dist-packages (from sentence-transformers) (3.2.5)\n",
            "Requirement already satisfied, skipping upgrade: joblib>=0.11 in /usr/local/lib/python3.7/dist-packages (from scikit-learn->sentence-transformers) (1.0.1)\n",
            "Requirement already satisfied, skipping upgrade: tokenizers<0.11,>=0.10.1 in /usr/local/lib/python3.7/dist-packages (from transformers<5.0.0,>=3.1.0->sentence-transformers) (0.10.1)\n",
            "Requirement already satisfied, skipping upgrade: sacremoses in /usr/local/lib/python3.7/dist-packages (from transformers<5.0.0,>=3.1.0->sentence-transformers) (0.0.43)\n",
            "Requirement already satisfied, skipping upgrade: importlib-metadata; python_version < \"3.8\" in /usr/local/lib/python3.7/dist-packages (from transformers<5.0.0,>=3.1.0->sentence-transformers) (3.7.2)\n",
            "Requirement already satisfied, skipping upgrade: requests in /usr/local/lib/python3.7/dist-packages (from transformers<5.0.0,>=3.1.0->sentence-transformers) (2.23.0)\n",
            "Requirement already satisfied, skipping upgrade: packaging in /usr/local/lib/python3.7/dist-packages (from transformers<5.0.0,>=3.1.0->sentence-transformers) (20.9)\n",
            "Requirement already satisfied, skipping upgrade: regex!=2019.12.17 in /usr/local/lib/python3.7/dist-packages (from transformers<5.0.0,>=3.1.0->sentence-transformers) (2019.12.20)\n",
            "Requirement already satisfied, skipping upgrade: filelock in /usr/local/lib/python3.7/dist-packages (from transformers<5.0.0,>=3.1.0->sentence-transformers) (3.0.12)\n",
            "Requirement already satisfied, skipping upgrade: typing-extensions in /usr/local/lib/python3.7/dist-packages (from torch>=1.6.0->sentence-transformers) (3.7.4.3)\n",
            "Requirement already satisfied, skipping upgrade: six in /usr/local/lib/python3.7/dist-packages (from nltk->sentence-transformers) (1.15.0)\n",
            "Requirement already satisfied, skipping upgrade: click in /usr/local/lib/python3.7/dist-packages (from sacremoses->transformers<5.0.0,>=3.1.0->sentence-transformers) (7.1.2)\n",
            "Requirement already satisfied, skipping upgrade: zipp>=0.5 in /usr/local/lib/python3.7/dist-packages (from importlib-metadata; python_version < \"3.8\"->transformers<5.0.0,>=3.1.0->sentence-transformers) (3.4.1)\n",
            "Requirement already satisfied, skipping upgrade: urllib3!=1.25.0,!=1.25.1,<1.26,>=1.21.1 in /usr/local/lib/python3.7/dist-packages (from requests->transformers<5.0.0,>=3.1.0->sentence-transformers) (1.24.3)\n",
            "Requirement already satisfied, skipping upgrade: chardet<4,>=3.0.2 in /usr/local/lib/python3.7/dist-packages (from requests->transformers<5.0.0,>=3.1.0->sentence-transformers) (3.0.4)\n",
            "Requirement already satisfied, skipping upgrade: idna<3,>=2.5 in /usr/local/lib/python3.7/dist-packages (from requests->transformers<5.0.0,>=3.1.0->sentence-transformers) (2.10)\n",
            "Requirement already satisfied, skipping upgrade: certifi>=2017.4.17 in /usr/local/lib/python3.7/dist-packages (from requests->transformers<5.0.0,>=3.1.0->sentence-transformers) (2020.12.5)\n",
            "Requirement already satisfied, skipping upgrade: pyparsing>=2.0.2 in /usr/local/lib/python3.7/dist-packages (from packaging->transformers<5.0.0,>=3.1.0->sentence-transformers) (2.4.7)\n"
          ],
          "name": "stdout"
        }
      ]
    },
    {
      "cell_type": "code",
      "metadata": {
        "id": "YHOamAy0gYDF"
      },
      "source": [
        "from transformers import AutoTokenizer, AutoModelForQuestionAnswering\r\n",
        "import torch\r\n",
        "\r\n",
        "tokenizer = AutoTokenizer.from_pretrained(\"bert-large-uncased-whole-word-masking-finetuned-squad\")\r\n",
        "model = AutoModelForQuestionAnswering.from_pretrained(\"bert-large-uncased-whole-word-masking-finetuned-squad\")\r\n",
        "tokenizer = AutoTokenizer.from_pretrained(\"bert-large-uncased-whole-word-masking-finetuned-squad\")\r\n",
        "model = AutoModelForQuestionAnswering.from_pretrained(\"bert-large-uncased-whole-word-masking-finetuned-squad\")\r\n",
        "def get_answer(questions, texts):\r\n",
        "    device = torch.device('cuda' if torch.cuda.is_available() else 'cpu')\r\n",
        "    answers = []\r\n",
        "    scores = []\r\n",
        "    for question in questions:\r\n",
        "        for text in texts:\r\n",
        "\r\n",
        "            inputs = tokenizer.encode_plus(question, text, add_special_tokens=True, padding=True, max_length=512, return_tensors=\"pt\").to(device)\r\n",
        "            offset_map = tokenizer.encode_plus(question, text, add_special_tokens=True, padding=True, max_length=512, return_tensors=\"pt\", return_offsets_mapping=True)['offset_mapping'][0]\r\n",
        "            input_ids = inputs[\"input_ids\"].tolist()[0]\r\n",
        "            \r\n",
        "            text_tokens = tokenizer.convert_ids_to_tokens(input_ids)\r\n",
        "            model.to(device)\r\n",
        "            res = model(**inputs)\r\n",
        "            model.to('cpu')\r\n",
        "            answer_start_scores = res['start_logits']\r\n",
        "            answer_end_scores = res['end_logits']\r\n",
        "            answer_start = torch.argmax(answer_start_scores)\r\n",
        "            answer_end = torch.argmax(answer_end_scores) + 1\r\n",
        "            score = torch.max(answer_start_scores) + torch.max(answer_end_scores)\r\n",
        "            \r\n",
        "            \r\n",
        "            if answer_start >= answer_end - 1:\r\n",
        "                continue\r\n",
        "\r\n",
        "            if score < 0.75:\r\n",
        "                continue\r\n",
        "            \r\n",
        "\r\n",
        "            start = offset_map[answer_start][0]\r\n",
        "            end = offset_map[answer_end][1]\r\n",
        "            # answer = tokenizer.convert_tokens_to_string(tokenizer.convert_ids_to_tokens(input_ids[answer_start:answer_end]))\r\n",
        "            answer = text[start:end]\r\n",
        "            if len(answer) == 0:\r\n",
        "                continue\r\n",
        "            answers.append(answer)\r\n",
        "            if len(answers) > 10:\r\n",
        "                return answers\r\n",
        "    return answers"
      ],
      "execution_count": 4,
      "outputs": []
    },
    {
      "cell_type": "code",
      "metadata": {
        "id": "Z39JcWqmEOIi"
      },
      "source": [
        "from flask import Flask \r\n",
        "from flask import request\r\n",
        "from flask_ngrok import run_with_ngrok\r\n",
        "from flask_cors import CORS, cross_origin\r\n",
        "from flask import jsonify\r\n",
        "from collections import defaultdict, Counter\r\n",
        "from heapq import heappush, heappop\r\n"
      ],
      "execution_count": 5,
      "outputs": []
    },
    {
      "cell_type": "code",
      "metadata": {
        "id": "rtnwRpglCaA4"
      },
      "source": [
        "from collections import Counter, defaultdict\r\n",
        "class URL:\r\n",
        "    def __init__(self):\r\n",
        "        # self.url = url\r\n",
        "        self.asked_questions = defaultdict(set)\r\n",
        "        self.counter = Counter()\r\n",
        "        self.qa_sep = \"#@\"\r\n",
        "        self.sep = \"%$\"\r\n",
        "\r\n",
        "    def add_qa(self, question, answer):\r\n",
        "        answer = answer.replace('\\n', self.sep)\r\n",
        "        self.asked_questions[question].add(answer)\r\n",
        "        self.counter[question] += 1\r\n",
        "        print(\"add_qa\", answer)\r\n",
        "\r\n",
        "    def get_top_qa(self, top=3):\r\n",
        "        qas = sorted([(q, a) for q, a in self.asked_questions.items()], key=lambda x: -self.counter[x[0]])\r\n",
        "        print(self.counter)\r\n",
        "        return qas[:top]\r\n",
        "\r\n",
        "    def get_answer(self, question):\r\n",
        "        if question in self.asked_questions:\r\n",
        "            return self.sep.join([str(answer) for answer in self.asked_questions[question]])\r\n",
        "        return \"\"\r\n",
        "\r\n",
        "    def get_top_qa_string(self, top=3):\r\n",
        "        print(\"top qa before string: \", self.get_top_qa(top))\r\n",
        "        qa = self.qa_sep.join([q+self.sep+ self.sep.join(list(a)) for q, a in self.get_top_qa(top)])\r\n",
        "        return qa\r\n",
        "\r\n",
        "\r\n",
        "class Database:\r\n",
        "    def __init__(self):\r\n",
        "        self.urls = defaultdict(URL)\r\n",
        "\r\n",
        "    def set_url_qa(self, url, question, answer):\r\n",
        "        self.urls[url].add_qa(question, answer)\r\n",
        "\r\n",
        "    def get_url(self, url):\r\n",
        "        if url in self.urls:\r\n",
        "            return self.urls[url]\r\n",
        "        return None\r\n",
        "\r\n",
        "    def get_url_top_qa(self, url, top=3):\r\n",
        "        if url not in self.urls:\r\n",
        "            return \"\"\r\n",
        "        else:\r\n",
        "            return self.urls[url].get_top_qa_string()\r\n",
        "\r\n",
        "    def get_answer(self, url, question):\r\n",
        "        url_obj = self.get_url(url)\r\n",
        "        if url_obj is None:\r\n",
        "            return \"\"\r\n",
        "        return self.urls[url].get_answer(question)\r\n",
        "\r\n",
        "\r\n",
        "    def remove_url(self, url):\r\n",
        "        if url not in self.urls:\r\n",
        "            return\r\n",
        "        del self.urls[url]\r\n",
        "\r\n",
        "database = Database()"
      ],
      "execution_count": 18,
      "outputs": []
    },
    {
      "cell_type": "code",
      "metadata": {
        "id": "9fUBTVG6qf5Q"
      },
      "source": [
        "app = Flask(__name__) \r\n",
        "# CORS(app)\r\n",
        "run_with_ngrok(app)    \r\n",
        "app.config['CORS_HEADERS'] = 'Content-Type'\r\n",
        "cors = CORS(app, resources={r\"/api/*\": {\"origins\": \"*\"}})\r\n",
        "@app.route(\"/\") \r\n",
        "def home(): \r\n",
        "    return \"<h1>GFG is great platform to learn</h1>\"\r\n",
        "\r\n",
        "# @cross_origin(headers=['Content-Type']) # Send Access-Control-Allow-Headers\r\n",
        "@app.route('/api/query', methods = ['POST', 'GET'])\r\n",
        "@cross_origin(headers=['Content-Type'])\r\n",
        "def get_query_from_react():\r\n",
        "    sep = '%$'\r\n",
        "    data = request.get_json()\r\n",
        "    print(data.keys())\r\n",
        "    print(data['data'])\r\n",
        "    \r\n",
        "    texts = data['data'].split(sep)\r\n",
        "    print(\"texts\", texts)\r\n",
        "    question = texts[0]\r\n",
        "    contents = [text for text in texts[1:] if len(text.split(' ')) > 20]\r\n",
        "    print(\"contents\", contents)\r\n",
        "    is_answer = texts[-1] == \"@answer\"\r\n",
        "    url = texts[-2]\r\n",
        "    print(\"number of paragraphs: \", len(contents))\r\n",
        "    print(\"Question is: \", question)\r\n",
        "    print(\"Contents are: \", contents)\r\n",
        "    print(\"URL is \", url)\r\n",
        "    print(\"is answer\", is_answer)\r\n",
        "    answers = \"\"\r\n",
        "    if not is_answer:\r\n",
        "        old_answers = database.get_answer(url, question)\r\n",
        "        print(\"old answer is: \", old_answers)\r\n",
        "        if old_answers:\r\n",
        "            answers = old_answers\r\n",
        "        elif len(contents):\r\n",
        "            answers = sep.join(get_answer([question], contents))\r\n",
        "    else: # get answer from front-end\r\n",
        "        answers = sep.join(texts[1:-2])\r\n",
        "    if answers:\r\n",
        "        database.set_url_qa(url, question, answers)\r\n",
        "\r\n",
        "    print(answers)\r\n",
        "    print(\"Answer: \", answers)\r\n",
        "    #r = \"the\"\r\n",
        "    return jsonify(answers)\r\n",
        "\r\n",
        "@app.route('/api/init', methods = ['POST', 'GET'])\r\n",
        "@cross_origin(headers=['Content-Type'])\r\n",
        "def get_top_question_answer():\r\n",
        "    sep = '%$'\r\n",
        "    data = request.get_json()\r\n",
        "    print(data)\r\n",
        "    url = data['data']\r\n",
        "    print(url)\r\n",
        "    qa = database.get_url_top_qa(url)\r\n",
        "    print(\"top qa are: \", qa)\r\n",
        "    print(jsonify(qa))\r\n",
        "    return jsonify(qa)\r\n"
      ],
      "execution_count": 19,
      "outputs": []
    },
    {
      "cell_type": "code",
      "metadata": {
        "id": "bekp43SIueos",
        "colab": {
          "base_uri": "https://localhost:8080/"
        },
        "outputId": "51195526-9ce8-47d7-d2ce-78f48de7babd"
      },
      "source": [
        "app.run()"
      ],
      "execution_count": null,
      "outputs": [
        {
          "output_type": "stream",
          "text": [
            " * Serving Flask app \"__main__\" (lazy loading)\n",
            " * Environment: production\n",
            "\u001b[31m   WARNING: This is a development server. Do not use it in a production deployment.\u001b[0m\n",
            "\u001b[2m   Use a production WSGI server instead.\u001b[0m\n",
            " * Debug mode: off\n"
          ],
          "name": "stdout"
        },
        {
          "output_type": "stream",
          "text": [
            " * Running on http://127.0.0.1:5000/ (Press CTRL+C to quit)\n"
          ],
          "name": "stderr"
        },
        {
          "output_type": "stream",
          "text": [
            " * Running on http://e31e7c8d88a8.ngrok.io\n",
            " * Traffic stats available on http://127.0.0.1:4040\n"
          ],
          "name": "stdout"
        },
        {
          "output_type": "stream",
          "text": [
            "127.0.0.1 - - [16/Mar/2021 04:28:32] \"\u001b[37mPOST /api/init HTTP/1.1\u001b[0m\" 200 -\n"
          ],
          "name": "stderr"
        },
        {
          "output_type": "stream",
          "text": [
            "{'data': 'https://en.wikipedia.org/wiki/BERT_(language_model)'}\n",
            "https://en.wikipedia.org/wiki/BERT_(language_model)\n",
            "top qa are:  \n",
            "<Response 3 bytes [200 OK]>\n"
          ],
          "name": "stdout"
        },
        {
          "output_type": "stream",
          "text": [
            "127.0.0.1 - - [16/Mar/2021 04:28:37] \"\u001b[37mPOST /api/query HTTP/1.1\u001b[0m\" 200 -\n"
          ],
          "name": "stderr"
        },
        {
          "output_type": "stream",
          "text": [
            "dict_keys(['data'])\n",
            "What is BERT?%$%$https://en.wikipedia.org/wiki/BERT_(language_model)%$@question\n",
            "texts ['What is BERT?', '', 'https://en.wikipedia.org/wiki/BERT_(language_model)', '@question']\n",
            "contents []\n",
            "number of paragraphs:  0\n",
            "Question is:  What is BERT?\n",
            "Contents are:  []\n",
            "URL is  https://en.wikipedia.org/wiki/BERT_(language_model)\n",
            "is answer False\n",
            "old answer is:  \n",
            "\n",
            "Answer:  \n"
          ],
          "name": "stdout"
        },
        {
          "output_type": "stream",
          "text": [
            "127.0.0.1 - - [16/Mar/2021 04:28:40] \"\u001b[37mPOST /api/query HTTP/1.1\u001b[0m\" 200 -\n"
          ],
          "name": "stderr"
        },
        {
          "output_type": "stream",
          "text": [
            "dict_keys(['data'])\n",
            "What is BERT?%$ (language model)%$ a Transformer-based machine learning technique for natural language processing (NLP) pre-training%$From Wikipedia, the free encyclopedia\n",
            "Jump to navigation\n",
            "Jump to search\n",
            "\n",
            "Bidirectional Encoder Representations from Transformers%$ a Transformer-based machine learning technique for natural language processing%$ a Transformer-based machine learning technique%$ Pre-training of Deep Bidirectional Transformers for Language Understanding\".%$ Pre-training%$ \"BERT: Pre-training of Deep Bidirectional Transformers for Language Understanding\".%$ Pre-training of Deep Bidirectional Transformers%$ Deep Bidirectional Transformers for Language Understanding\".%$https://en.wikipedia.org/wiki/BERT_(language_model)%$@answer\n",
            "texts ['What is BERT?', ' (language model)', ' a Transformer-based machine learning technique for natural language processing (NLP) pre-training', 'From Wikipedia, the free encyclopedia\\nJump to navigation\\nJump to search\\n\\nBidirectional Encoder Representations from Transformers', ' a Transformer-based machine learning technique for natural language processing', ' a Transformer-based machine learning technique', ' Pre-training of Deep Bidirectional Transformers for Language Understanding\".', ' Pre-training', ' \"BERT: Pre-training of Deep Bidirectional Transformers for Language Understanding\".', ' Pre-training of Deep Bidirectional Transformers', ' Deep Bidirectional Transformers for Language Understanding\".', 'https://en.wikipedia.org/wiki/BERT_(language_model)', '@answer']\n",
            "contents []\n",
            "number of paragraphs:  0\n",
            "Question is:  What is BERT?\n",
            "Contents are:  []\n",
            "URL is  https://en.wikipedia.org/wiki/BERT_(language_model)\n",
            "is answer True\n",
            "add_qa  (language model)%$ a Transformer-based machine learning technique for natural language processing (NLP) pre-training%$From Wikipedia, the free encyclopedia%$Jump to navigation%$Jump to search%$%$Bidirectional Encoder Representations from Transformers%$ a Transformer-based machine learning technique for natural language processing%$ a Transformer-based machine learning technique%$ Pre-training of Deep Bidirectional Transformers for Language Understanding\".%$ Pre-training%$ \"BERT: Pre-training of Deep Bidirectional Transformers for Language Understanding\".%$ Pre-training of Deep Bidirectional Transformers%$ Deep Bidirectional Transformers for Language Understanding\".\n",
            " (language model)%$ a Transformer-based machine learning technique for natural language processing (NLP) pre-training%$From Wikipedia, the free encyclopedia\n",
            "Jump to navigation\n",
            "Jump to search\n",
            "\n",
            "Bidirectional Encoder Representations from Transformers%$ a Transformer-based machine learning technique for natural language processing%$ a Transformer-based machine learning technique%$ Pre-training of Deep Bidirectional Transformers for Language Understanding\".%$ Pre-training%$ \"BERT: Pre-training of Deep Bidirectional Transformers for Language Understanding\".%$ Pre-training of Deep Bidirectional Transformers%$ Deep Bidirectional Transformers for Language Understanding\".\n",
            "Answer:   (language model)%$ a Transformer-based machine learning technique for natural language processing (NLP) pre-training%$From Wikipedia, the free encyclopedia\n",
            "Jump to navigation\n",
            "Jump to search\n",
            "\n",
            "Bidirectional Encoder Representations from Transformers%$ a Transformer-based machine learning technique for natural language processing%$ a Transformer-based machine learning technique%$ Pre-training of Deep Bidirectional Transformers for Language Understanding\".%$ Pre-training%$ \"BERT: Pre-training of Deep Bidirectional Transformers for Language Understanding\".%$ Pre-training of Deep Bidirectional Transformers%$ Deep Bidirectional Transformers for Language Understanding\".\n"
          ],
          "name": "stdout"
        },
        {
          "output_type": "stream",
          "text": [
            "127.0.0.1 - - [16/Mar/2021 04:28:42] \"\u001b[37mPOST /api/query HTTP/1.1\u001b[0m\" 200 -\n"
          ],
          "name": "stderr"
        },
        {
          "output_type": "stream",
          "text": [
            "dict_keys(['data'])\n",
            "What is BERT?%$%$https://en.wikipedia.org/wiki/BERT_(language_model)%$@question\n",
            "texts ['What is BERT?', '', 'https://en.wikipedia.org/wiki/BERT_(language_model)', '@question']\n",
            "contents []\n",
            "number of paragraphs:  0\n",
            "Question is:  What is BERT?\n",
            "Contents are:  []\n",
            "URL is  https://en.wikipedia.org/wiki/BERT_(language_model)\n",
            "is answer False\n",
            "old answer is:   (language model)%$ a Transformer-based machine learning technique for natural language processing (NLP) pre-training%$From Wikipedia, the free encyclopedia%$Jump to navigation%$Jump to search%$%$Bidirectional Encoder Representations from Transformers%$ a Transformer-based machine learning technique for natural language processing%$ a Transformer-based machine learning technique%$ Pre-training of Deep Bidirectional Transformers for Language Understanding\".%$ Pre-training%$ \"BERT: Pre-training of Deep Bidirectional Transformers for Language Understanding\".%$ Pre-training of Deep Bidirectional Transformers%$ Deep Bidirectional Transformers for Language Understanding\".\n",
            "add_qa  (language model)%$ a Transformer-based machine learning technique for natural language processing (NLP) pre-training%$From Wikipedia, the free encyclopedia%$Jump to navigation%$Jump to search%$%$Bidirectional Encoder Representations from Transformers%$ a Transformer-based machine learning technique for natural language processing%$ a Transformer-based machine learning technique%$ Pre-training of Deep Bidirectional Transformers for Language Understanding\".%$ Pre-training%$ \"BERT: Pre-training of Deep Bidirectional Transformers for Language Understanding\".%$ Pre-training of Deep Bidirectional Transformers%$ Deep Bidirectional Transformers for Language Understanding\".\n",
            " (language model)%$ a Transformer-based machine learning technique for natural language processing (NLP) pre-training%$From Wikipedia, the free encyclopedia%$Jump to navigation%$Jump to search%$%$Bidirectional Encoder Representations from Transformers%$ a Transformer-based machine learning technique for natural language processing%$ a Transformer-based machine learning technique%$ Pre-training of Deep Bidirectional Transformers for Language Understanding\".%$ Pre-training%$ \"BERT: Pre-training of Deep Bidirectional Transformers for Language Understanding\".%$ Pre-training of Deep Bidirectional Transformers%$ Deep Bidirectional Transformers for Language Understanding\".\n",
            "Answer:   (language model)%$ a Transformer-based machine learning technique for natural language processing (NLP) pre-training%$From Wikipedia, the free encyclopedia%$Jump to navigation%$Jump to search%$%$Bidirectional Encoder Representations from Transformers%$ a Transformer-based machine learning technique for natural language processing%$ a Transformer-based machine learning technique%$ Pre-training of Deep Bidirectional Transformers for Language Understanding\".%$ Pre-training%$ \"BERT: Pre-training of Deep Bidirectional Transformers for Language Understanding\".%$ Pre-training of Deep Bidirectional Transformers%$ Deep Bidirectional Transformers for Language Understanding\".\n"
          ],
          "name": "stdout"
        },
        {
          "output_type": "stream",
          "text": [
            "127.0.0.1 - - [16/Mar/2021 04:28:44] \"\u001b[37mPOST /api/query HTTP/1.1\u001b[0m\" 200 -\n"
          ],
          "name": "stderr"
        },
        {
          "output_type": "stream",
          "text": [
            "dict_keys(['data'])\n",
            "What is BERT?%$%$https://en.wikipedia.org/wiki/BERT_(language_model)%$@question\n",
            "texts ['What is BERT?', '', 'https://en.wikipedia.org/wiki/BERT_(language_model)', '@question']\n",
            "contents []\n",
            "number of paragraphs:  0\n",
            "Question is:  What is BERT?\n",
            "Contents are:  []\n",
            "URL is  https://en.wikipedia.org/wiki/BERT_(language_model)\n",
            "is answer False\n",
            "old answer is:   (language model)%$ a Transformer-based machine learning technique for natural language processing (NLP) pre-training%$From Wikipedia, the free encyclopedia%$Jump to navigation%$Jump to search%$%$Bidirectional Encoder Representations from Transformers%$ a Transformer-based machine learning technique for natural language processing%$ a Transformer-based machine learning technique%$ Pre-training of Deep Bidirectional Transformers for Language Understanding\".%$ Pre-training%$ \"BERT: Pre-training of Deep Bidirectional Transformers for Language Understanding\".%$ Pre-training of Deep Bidirectional Transformers%$ Deep Bidirectional Transformers for Language Understanding\".\n",
            "add_qa  (language model)%$ a Transformer-based machine learning technique for natural language processing (NLP) pre-training%$From Wikipedia, the free encyclopedia%$Jump to navigation%$Jump to search%$%$Bidirectional Encoder Representations from Transformers%$ a Transformer-based machine learning technique for natural language processing%$ a Transformer-based machine learning technique%$ Pre-training of Deep Bidirectional Transformers for Language Understanding\".%$ Pre-training%$ \"BERT: Pre-training of Deep Bidirectional Transformers for Language Understanding\".%$ Pre-training of Deep Bidirectional Transformers%$ Deep Bidirectional Transformers for Language Understanding\".\n",
            " (language model)%$ a Transformer-based machine learning technique for natural language processing (NLP) pre-training%$From Wikipedia, the free encyclopedia%$Jump to navigation%$Jump to search%$%$Bidirectional Encoder Representations from Transformers%$ a Transformer-based machine learning technique for natural language processing%$ a Transformer-based machine learning technique%$ Pre-training of Deep Bidirectional Transformers for Language Understanding\".%$ Pre-training%$ \"BERT: Pre-training of Deep Bidirectional Transformers for Language Understanding\".%$ Pre-training of Deep Bidirectional Transformers%$ Deep Bidirectional Transformers for Language Understanding\".\n",
            "Answer:   (language model)%$ a Transformer-based machine learning technique for natural language processing (NLP) pre-training%$From Wikipedia, the free encyclopedia%$Jump to navigation%$Jump to search%$%$Bidirectional Encoder Representations from Transformers%$ a Transformer-based machine learning technique for natural language processing%$ a Transformer-based machine learning technique%$ Pre-training of Deep Bidirectional Transformers for Language Understanding\".%$ Pre-training%$ \"BERT: Pre-training of Deep Bidirectional Transformers for Language Understanding\".%$ Pre-training of Deep Bidirectional Transformers%$ Deep Bidirectional Transformers for Language Understanding\".\n"
          ],
          "name": "stdout"
        },
        {
          "output_type": "stream",
          "text": [
            "127.0.0.1 - - [16/Mar/2021 04:32:29] \"\u001b[37mPOST /api/init HTTP/1.1\u001b[0m\" 200 -\n"
          ],
          "name": "stderr"
        },
        {
          "output_type": "stream",
          "text": [
            "{'data': 'https://en.wikipedia.org/wiki/BERT_(language_model)'}\n",
            "https://en.wikipedia.org/wiki/BERT_(language_model)\n",
            "Counter({'What is BERT?': 3})\n",
            "top qa before string:  [('What is BERT?', {' (language model)%$ a Transformer-based machine learning technique for natural language processing (NLP) pre-training%$From Wikipedia, the free encyclopedia%$Jump to navigation%$Jump to search%$%$Bidirectional Encoder Representations from Transformers%$ a Transformer-based machine learning technique for natural language processing%$ a Transformer-based machine learning technique%$ Pre-training of Deep Bidirectional Transformers for Language Understanding\".%$ Pre-training%$ \"BERT: Pre-training of Deep Bidirectional Transformers for Language Understanding\".%$ Pre-training of Deep Bidirectional Transformers%$ Deep Bidirectional Transformers for Language Understanding\".'})]\n",
            "Counter({'What is BERT?': 3})\n",
            "top qa are:  What is BERT?%$ (language model)%$ a Transformer-based machine learning technique for natural language processing (NLP) pre-training%$From Wikipedia, the free encyclopedia%$Jump to navigation%$Jump to search%$%$Bidirectional Encoder Representations from Transformers%$ a Transformer-based machine learning technique for natural language processing%$ a Transformer-based machine learning technique%$ Pre-training of Deep Bidirectional Transformers for Language Understanding\".%$ Pre-training%$ \"BERT: Pre-training of Deep Bidirectional Transformers for Language Understanding\".%$ Pre-training of Deep Bidirectional Transformers%$ Deep Bidirectional Transformers for Language Understanding\".\n",
            "<Response 696 bytes [200 OK]>\n"
          ],
          "name": "stdout"
        },
        {
          "output_type": "stream",
          "text": [
            "127.0.0.1 - - [16/Mar/2021 04:32:34] \"\u001b[37mPOST /api/query HTTP/1.1\u001b[0m\" 200 -\n"
          ],
          "name": "stderr"
        },
        {
          "output_type": "stream",
          "text": [
            "dict_keys(['data'])\n",
            "What is BERT?%$%$https://en.wikipedia.org/wiki/BERT_(language_model)%$@question\n",
            "texts ['What is BERT?', '', 'https://en.wikipedia.org/wiki/BERT_(language_model)', '@question']\n",
            "contents []\n",
            "number of paragraphs:  0\n",
            "Question is:  What is BERT?\n",
            "Contents are:  []\n",
            "URL is  https://en.wikipedia.org/wiki/BERT_(language_model)\n",
            "is answer False\n",
            "old answer is:   (language model)%$ a Transformer-based machine learning technique for natural language processing (NLP) pre-training%$From Wikipedia, the free encyclopedia%$Jump to navigation%$Jump to search%$%$Bidirectional Encoder Representations from Transformers%$ a Transformer-based machine learning technique for natural language processing%$ a Transformer-based machine learning technique%$ Pre-training of Deep Bidirectional Transformers for Language Understanding\".%$ Pre-training%$ \"BERT: Pre-training of Deep Bidirectional Transformers for Language Understanding\".%$ Pre-training of Deep Bidirectional Transformers%$ Deep Bidirectional Transformers for Language Understanding\".\n",
            "add_qa  (language model)%$ a Transformer-based machine learning technique for natural language processing (NLP) pre-training%$From Wikipedia, the free encyclopedia%$Jump to navigation%$Jump to search%$%$Bidirectional Encoder Representations from Transformers%$ a Transformer-based machine learning technique for natural language processing%$ a Transformer-based machine learning technique%$ Pre-training of Deep Bidirectional Transformers for Language Understanding\".%$ Pre-training%$ \"BERT: Pre-training of Deep Bidirectional Transformers for Language Understanding\".%$ Pre-training of Deep Bidirectional Transformers%$ Deep Bidirectional Transformers for Language Understanding\".\n",
            " (language model)%$ a Transformer-based machine learning technique for natural language processing (NLP) pre-training%$From Wikipedia, the free encyclopedia%$Jump to navigation%$Jump to search%$%$Bidirectional Encoder Representations from Transformers%$ a Transformer-based machine learning technique for natural language processing%$ a Transformer-based machine learning technique%$ Pre-training of Deep Bidirectional Transformers for Language Understanding\".%$ Pre-training%$ \"BERT: Pre-training of Deep Bidirectional Transformers for Language Understanding\".%$ Pre-training of Deep Bidirectional Transformers%$ Deep Bidirectional Transformers for Language Understanding\".\n",
            "Answer:   (language model)%$ a Transformer-based machine learning technique for natural language processing (NLP) pre-training%$From Wikipedia, the free encyclopedia%$Jump to navigation%$Jump to search%$%$Bidirectional Encoder Representations from Transformers%$ a Transformer-based machine learning technique for natural language processing%$ a Transformer-based machine learning technique%$ Pre-training of Deep Bidirectional Transformers for Language Understanding\".%$ Pre-training%$ \"BERT: Pre-training of Deep Bidirectional Transformers for Language Understanding\".%$ Pre-training of Deep Bidirectional Transformers%$ Deep Bidirectional Transformers for Language Understanding\".\n"
          ],
          "name": "stdout"
        },
        {
          "output_type": "stream",
          "text": [
            "127.0.0.1 - - [16/Mar/2021 04:32:42] \"\u001b[37mPOST /api/query HTTP/1.1\u001b[0m\" 200 -\n"
          ],
          "name": "stderr"
        },
        {
          "output_type": "stream",
          "text": [
            "dict_keys(['data'])\n",
            "How many encoders are in BERT?%$%$https://en.wikipedia.org/wiki/BERT_(language_model)%$@question\n",
            "texts ['How many encoders are in BERT?', '', 'https://en.wikipedia.org/wiki/BERT_(language_model)', '@question']\n",
            "contents []\n",
            "number of paragraphs:  0\n",
            "Question is:  How many encoders are in BERT?\n",
            "Contents are:  []\n",
            "URL is  https://en.wikipedia.org/wiki/BERT_(language_model)\n",
            "is answer False\n",
            "old answer is:  \n",
            "\n",
            "Answer:  \n"
          ],
          "name": "stdout"
        },
        {
          "output_type": "stream",
          "text": [
            "127.0.0.1 - - [16/Mar/2021 04:32:45] \"\u001b[37mPOST /api/query HTTP/1.1\u001b[0m\" 200 -\n"
          ],
          "name": "stderr"
        },
        {
          "output_type": "stream",
          "text": [
            "dict_keys(['data'])\n",
            "How many encoders are in BERT?%$ 24%$ 24 Encoders%$ 24 Encoders with 24%$ 24 Encoders with 24 bidirectional self-attention heads.%$ BERTLARGE: 24%$https://en.wikipedia.org/wiki/BERT_(language_model)%$@answer\n",
            "texts ['How many encoders are in BERT?', ' 24', ' 24 Encoders', ' 24 Encoders with 24', ' 24 Encoders with 24 bidirectional self-attention heads.', ' BERTLARGE: 24', 'https://en.wikipedia.org/wiki/BERT_(language_model)', '@answer']\n",
            "contents []\n",
            "number of paragraphs:  0\n",
            "Question is:  How many encoders are in BERT?\n",
            "Contents are:  []\n",
            "URL is  https://en.wikipedia.org/wiki/BERT_(language_model)\n",
            "is answer True\n",
            "add_qa  24%$ 24 Encoders%$ 24 Encoders with 24%$ 24 Encoders with 24 bidirectional self-attention heads.%$ BERTLARGE: 24\n",
            " 24%$ 24 Encoders%$ 24 Encoders with 24%$ 24 Encoders with 24 bidirectional self-attention heads.%$ BERTLARGE: 24\n",
            "Answer:   24%$ 24 Encoders%$ 24 Encoders with 24%$ 24 Encoders with 24 bidirectional self-attention heads.%$ BERTLARGE: 24\n"
          ],
          "name": "stdout"
        },
        {
          "output_type": "stream",
          "text": [
            "127.0.0.1 - - [16/Mar/2021 04:32:57] \"\u001b[37mPOST /api/query HTTP/1.1\u001b[0m\" 200 -\n"
          ],
          "name": "stderr"
        },
        {
          "output_type": "stream",
          "text": [
            "dict_keys(['data'])\n",
            "What is BERT?%$%$https://en.wikipedia.org/wiki/BERT_(language_model)%$@question\n",
            "texts ['What is BERT?', '', 'https://en.wikipedia.org/wiki/BERT_(language_model)', '@question']\n",
            "contents []\n",
            "number of paragraphs:  0\n",
            "Question is:  What is BERT?\n",
            "Contents are:  []\n",
            "URL is  https://en.wikipedia.org/wiki/BERT_(language_model)\n",
            "is answer False\n",
            "old answer is:   (language model)%$ a Transformer-based machine learning technique for natural language processing (NLP) pre-training%$From Wikipedia, the free encyclopedia%$Jump to navigation%$Jump to search%$%$Bidirectional Encoder Representations from Transformers%$ a Transformer-based machine learning technique for natural language processing%$ a Transformer-based machine learning technique%$ Pre-training of Deep Bidirectional Transformers for Language Understanding\".%$ Pre-training%$ \"BERT: Pre-training of Deep Bidirectional Transformers for Language Understanding\".%$ Pre-training of Deep Bidirectional Transformers%$ Deep Bidirectional Transformers for Language Understanding\".\n",
            "add_qa  (language model)%$ a Transformer-based machine learning technique for natural language processing (NLP) pre-training%$From Wikipedia, the free encyclopedia%$Jump to navigation%$Jump to search%$%$Bidirectional Encoder Representations from Transformers%$ a Transformer-based machine learning technique for natural language processing%$ a Transformer-based machine learning technique%$ Pre-training of Deep Bidirectional Transformers for Language Understanding\".%$ Pre-training%$ \"BERT: Pre-training of Deep Bidirectional Transformers for Language Understanding\".%$ Pre-training of Deep Bidirectional Transformers%$ Deep Bidirectional Transformers for Language Understanding\".\n",
            " (language model)%$ a Transformer-based machine learning technique for natural language processing (NLP) pre-training%$From Wikipedia, the free encyclopedia%$Jump to navigation%$Jump to search%$%$Bidirectional Encoder Representations from Transformers%$ a Transformer-based machine learning technique for natural language processing%$ a Transformer-based machine learning technique%$ Pre-training of Deep Bidirectional Transformers for Language Understanding\".%$ Pre-training%$ \"BERT: Pre-training of Deep Bidirectional Transformers for Language Understanding\".%$ Pre-training of Deep Bidirectional Transformers%$ Deep Bidirectional Transformers for Language Understanding\".\n",
            "Answer:   (language model)%$ a Transformer-based machine learning technique for natural language processing (NLP) pre-training%$From Wikipedia, the free encyclopedia%$Jump to navigation%$Jump to search%$%$Bidirectional Encoder Representations from Transformers%$ a Transformer-based machine learning technique for natural language processing%$ a Transformer-based machine learning technique%$ Pre-training of Deep Bidirectional Transformers for Language Understanding\".%$ Pre-training%$ \"BERT: Pre-training of Deep Bidirectional Transformers for Language Understanding\".%$ Pre-training of Deep Bidirectional Transformers%$ Deep Bidirectional Transformers for Language Understanding\".\n"
          ],
          "name": "stdout"
        },
        {
          "output_type": "stream",
          "text": [
            "127.0.0.1 - - [16/Mar/2021 04:33:08] \"\u001b[37mPOST /api/query HTTP/1.1\u001b[0m\" 200 -\n"
          ],
          "name": "stderr"
        },
        {
          "output_type": "stream",
          "text": [
            "dict_keys(['data'])\n",
            "How many encoders are in BERT?%$%$https://en.wikipedia.org/wiki/BERT_(language_model)%$@question\n",
            "texts ['How many encoders are in BERT?', '', 'https://en.wikipedia.org/wiki/BERT_(language_model)', '@question']\n",
            "contents []\n",
            "number of paragraphs:  0\n",
            "Question is:  How many encoders are in BERT?\n",
            "Contents are:  []\n",
            "URL is  https://en.wikipedia.org/wiki/BERT_(language_model)\n",
            "is answer False\n",
            "old answer is:   24%$ 24 Encoders%$ 24 Encoders with 24%$ 24 Encoders with 24 bidirectional self-attention heads.%$ BERTLARGE: 24\n",
            "add_qa  24%$ 24 Encoders%$ 24 Encoders with 24%$ 24 Encoders with 24 bidirectional self-attention heads.%$ BERTLARGE: 24\n",
            " 24%$ 24 Encoders%$ 24 Encoders with 24%$ 24 Encoders with 24 bidirectional self-attention heads.%$ BERTLARGE: 24\n",
            "Answer:   24%$ 24 Encoders%$ 24 Encoders with 24%$ 24 Encoders with 24 bidirectional self-attention heads.%$ BERTLARGE: 24\n"
          ],
          "name": "stdout"
        },
        {
          "output_type": "stream",
          "text": [
            "127.0.0.1 - - [16/Mar/2021 04:33:19] \"\u001b[37mPOST /api/init HTTP/1.1\u001b[0m\" 200 -\n"
          ],
          "name": "stderr"
        },
        {
          "output_type": "stream",
          "text": [
            "{'data': 'https://en.wikipedia.org/wiki/BERT_(language_model)'}\n",
            "https://en.wikipedia.org/wiki/BERT_(language_model)\n",
            "Counter({'What is BERT?': 5, 'How many encoders are in BERT?': 2})\n",
            "top qa before string:  [('What is BERT?', {' (language model)%$ a Transformer-based machine learning technique for natural language processing (NLP) pre-training%$From Wikipedia, the free encyclopedia%$Jump to navigation%$Jump to search%$%$Bidirectional Encoder Representations from Transformers%$ a Transformer-based machine learning technique for natural language processing%$ a Transformer-based machine learning technique%$ Pre-training of Deep Bidirectional Transformers for Language Understanding\".%$ Pre-training%$ \"BERT: Pre-training of Deep Bidirectional Transformers for Language Understanding\".%$ Pre-training of Deep Bidirectional Transformers%$ Deep Bidirectional Transformers for Language Understanding\".'}), ('How many encoders are in BERT?', {' 24%$ 24 Encoders%$ 24 Encoders with 24%$ 24 Encoders with 24 bidirectional self-attention heads.%$ BERTLARGE: 24'})]\n",
            "Counter({'What is BERT?': 5, 'How many encoders are in BERT?': 2})\n",
            "top qa are:  What is BERT?%$ (language model)%$ a Transformer-based machine learning technique for natural language processing (NLP) pre-training%$From Wikipedia, the free encyclopedia%$Jump to navigation%$Jump to search%$%$Bidirectional Encoder Representations from Transformers%$ a Transformer-based machine learning technique for natural language processing%$ a Transformer-based machine learning technique%$ Pre-training of Deep Bidirectional Transformers for Language Understanding\".%$ Pre-training%$ \"BERT: Pre-training of Deep Bidirectional Transformers for Language Understanding\".%$ Pre-training of Deep Bidirectional Transformers%$ Deep Bidirectional Transformers for Language Understanding\".#@How many encoders are in BERT?%$ 24%$ 24 Encoders%$ 24 Encoders with 24%$ 24 Encoders with 24 bidirectional self-attention heads.%$ BERTLARGE: 24\n",
            "<Response 843 bytes [200 OK]>\n"
          ],
          "name": "stdout"
        },
        {
          "output_type": "stream",
          "text": [
            "127.0.0.1 - - [16/Mar/2021 04:33:28] \"\u001b[37mPOST /api/query HTTP/1.1\u001b[0m\" 200 -\n"
          ],
          "name": "stderr"
        },
        {
          "output_type": "stream",
          "text": [
            "dict_keys(['data'])\n",
            "Are the data pre-trained?%$%$https://en.wikipedia.org/wiki/BERT_(language_model)%$@question\n",
            "texts ['Are the data pre-trained?', '', 'https://en.wikipedia.org/wiki/BERT_(language_model)', '@question']\n",
            "contents []\n",
            "number of paragraphs:  0\n",
            "Question is:  Are the data pre-trained?\n",
            "Contents are:  []\n",
            "URL is  https://en.wikipedia.org/wiki/BERT_(language_model)\n",
            "is answer False\n",
            "old answer is:  \n",
            "\n",
            "Answer:  \n",
            "dict_keys(['data'])\n",
            "Are the data pre-trained?%$BERT (language model)%$From Wikipedia, the free encyclopedia%$Bidirectional Encoder Representations from Transformers (BERT) is a Transformer-based machine learning technique for natural language processing (NLP) pre-training developed by Google. BERT was created and published in 2018 by Jacob Devlin and his colleagues from Google.[1][2] As of 2019, Google has been leveraging BERT to better understand user searches.[3]%$The original English-language BERT has two models:[1] (1) the BERTBASE: 12 Encoders with 12 bidirectional self-attention heads, and (2) the BERTLARGE: 24 Encoders with 24 bidirectional self-attention heads. Both models are pre-trained from unlabeled data extracted from the BooksCorpus[4] with 800M words and English Wikipedia with 2,500M words.[5]%$When BERT was published, it achieved state-of-the-art performance on a number of natural language understanding tasks:[1]%$GLUE (General Language Understanding Evaluation) task set (consisting of 9 tasks)%$SQuAD (Stanford Question Answering Dataset) v1.1 and v2.0%$SWAG (Situations With Adversarial Generations)%$The reasons for BERT's state-of-the-art performance on these natural language understanding tasks are not yet well understood.[6][7] Current research has focused on investigating the relationship behind BERT's output as a result of carefully chosen input sequences,[8][9] analysis of internal vector representations through probing classifiers,[10][11] and the relationships represented by attention weights.[6][7]%$BERT has its origins from pre-training contextual representations including Semi-supervised Sequence Learning,[12] Generative Pre-Training, ELMo,[13] and ULMFit.[14] Unlike previous models, BERT is a deeply bidirectional, unsupervised language representation, pre-trained using only a plain text corpus. Context-free models such as word2vec or GloVe generate a single word embedding representation for each word in the vocabulary, where BERT takes into account the context for each occurrence of a given word. For instance, whereas the vector for \"running\" will have the same word2vec vector representation for both of its occurrences in the sentences \"He is running a company\" and \"He is running a marathon\", BERT will provide a contextualized embedding that will be different according to the sentence.%$On October 25, 2019, Google Search announced that they had started applying BERT models for English language search queries within the US.[15] On December 9, 2019, it was reported that BERT had been adopted by Google Search for over 70 languages.[16] In October 2020, almost every single English-based query was processed by BERT.[17]%$BERT won the Best Long Paper Award at the 2019 Annual Conference of the North American Chapter of the Association for Computational Linguistics (NAACL).[18]%$Transformer (machine learning model)%$Document-term matrix%$Neural network language models%$a b c Devlin, Jacob; Chang, Ming-Wei; Lee, Kenton; Toutanova, Kristina (11 October 2018). \"BERT: Pre-training of Deep Bidirectional Transformers for Language Understanding\". arXiv:1810.04805v2 [cs.CL].%$^ \"Open Sourcing BERT: State-of-the-Art Pre-training for Natural Language Processing\". Google AI Blog. Retrieved 2019-11-27.%$^ \"Understanding searches better than ever before\". Google. 2019-10-25. Retrieved 2019-11-27.%$^ Zhu, Yukun; Kiros, Ryan; Zemel, Rich; Salakhutdinov, Ruslan; Urtasun, Raquel; Torralba, Antonio; Fidler, Sanja (2015). \"Aligning Books and Movies: Towards Story-Like Visual Explanations by Watching Movies and Reading Books\". pp. 19–27. arXiv:1506.06724 [cs.CV].%$^ Annamoradnejad, Issa (2020-04-27). \"ColBERT: Using BERT Sentence Embedding for Humor Detection\". arXiv:2004.12765 [cs.CL].%$a b Kovaleva, Olga; Romanov, Alexey; Rogers, Anna; Rumshisky, Anna (November 2019). \"Revealing the Dark Secrets of BERT\". Proceedings of the 2019 Conference on Empirical Methods in Natural Language Processing and the 9th International Joint Conference on Natural Language Processing (EMNLP-IJCNLP). pp. 4364–4373. doi:10.18653/v1/D19-1445. S2CID 201645145.%$a b Clark, Kevin; Khandelwal, Urvashi; Levy, Omer; Manning, Christopher D. (2019). \"What Does BERT Look at? An Analysis of BERT's Attention\". Proceedings of the 2019 ACL Workshop BlackboxNLP: Analyzing and Interpreting Neural Networks for NLP. Stroudsburg, PA, USA: Association for Computational Linguistics: 276–286. doi:10.18653/v1/w19-4828.%$^ Khandelwal, Urvashi; He, He; Qi, Peng; Jurafsky, Dan (2018). \"Sharp Nearby, Fuzzy Far Away: How Neural Language Models Use Context\". Proceedings of the 56th Annual Meeting of the Association for Computational Linguistics (Volume 1: Long Papers). Stroudsburg, PA, USA: Association for Computational Linguistics: 284–294. arXiv:1805.04623. Bibcode:2018arXiv180504623K. doi:10.18653/v1/p18-1027. S2CID 21700944.%$^ Gulordava, Kristina; Bojanowski, Piotr; Grave, Edouard; Linzen, Tal; Baroni, Marco (2018). \"Colorless Green Recurrent Networks Dream Hierarchically\". Proceedings of the 2018 Conference of the North American Chapter of the Association for Computational Linguistics: Human Language Technologies, Volume 1 (Long Papers). Stroudsburg, PA, USA: Association for Computational Linguistics: 1195–1205. arXiv:1803.11138. Bibcode:2018arXiv180311138G. doi:10.18653/v1/n18-1108. S2CID 4460159.%$^ Giulianelli, Mario; Harding, Jack; Mohnert, Florian; Hupkes, Dieuwke; Zuidema, Willem (2018). \"Under the Hood: Using Diagnostic Classifiers to Investigate and Improve how Language Models Track Agreement Information\". Proceedings of the 2018 EMNLP Workshop BlackboxNLP: Analyzing and Interpreting Neural Networks for NLP. Stroudsburg, PA, USA: Association for Computational Linguistics: 240–248. arXiv:1808.08079. Bibcode:2018arXiv180808079G. doi:10.18653/v1/w18-5426. S2CID 52090220.%$^ Zhang, Kelly; Bowman, Samuel (2018). \"Language Modeling Teaches You More than Translation Does: Lessons Learned Through Auxiliary Syntactic Task Analysis\". Proceedings of the 2018 EMNLP Workshop BlackboxNLP: Analyzing and Interpreting Neural Networks for NLP. Stroudsburg, PA, USA: Association for Computational Linguistics: 359–361. doi:10.18653/v1/w18-5448.%$^ Dai, Andrew; Le, Quoc (4 November 2015). \"Semi-supervised Sequence Learning\". arXiv:1511.01432 [cs.LG].%$^ Peters, Matthew; Neumann, Mark; Iyyer, Mohit; Gardner, Matt; Clark, Christopher; Lee, Kenton; Luke, Zettlemoyer (15 February 2018). \"Deep contextualized word representations\". arXiv:1802.05365v2 [cs.CL].%$^ Howard, Jeremy; Ruder, Sebastian (18 January 2018). \"Universal Language Model Fine-tuning for Text Classification\". arXiv:1801.06146v5 [cs.CL].%$^ Nayak, Pandu (25 October 2019). \"Understanding searches better than ever before\". Google Blog. Retrieved 10 December 2019.%$^ Montti, Roger (10 December 2019). \"Google's BERT Rolls Out Worldwide\". Search Engine Journal. Search Engine Journal. Retrieved 10 December 2019.%$^ \"Google: BERT now used on almost every English query\". Search Engine Land. 2020-10-15. Retrieved 2020-11-24.%$^ \"Best Paper Awards\". NAACL. 2019. Retrieved Mar 28, 2020.%$Further reading[edit]%$Rogers, Anna; Kovaleva, Olga; Rumshisky, Anna (2020). \"A Primer in BERTology: What we know about how BERT works\". arXiv:2002.12327.%$External links[edit]%$Official GitHub repository%$Natural language processing%$Differentiable computing%$Categories: Natural language processingComputational linguisticsSpeech recognitionComputational fields of studyArtificial intelligence%$This page was last edited on 18 February 2021, at 00:32 (UTC).%$Text is available under the Creative Commons Attribution-ShareAlike License; additional terms may apply. By using this site, you agree to the Terms of Use and Privacy Policy. Wikipedia® is a registered trademark of the Wikimedia Foundation, Inc., a non-profit organization.%$https://en.wikipedia.org/wiki/BERT_(language_model)%$@question\n",
            "texts ['Are the data pre-trained?', 'BERT (language model)', 'From Wikipedia, the free encyclopedia', 'Bidirectional Encoder Representations from Transformers (BERT) is a Transformer-based machine learning technique for natural language processing (NLP) pre-training developed by Google. BERT was created and published in 2018 by Jacob Devlin and his colleagues from Google.[1][2] As of 2019, Google has been leveraging BERT to better understand user searches.[3]', 'The original English-language BERT has two models:[1] (1) the BERTBASE: 12 Encoders with 12 bidirectional self-attention heads, and (2) the BERTLARGE: 24 Encoders with 24 bidirectional self-attention heads. Both models are pre-trained from unlabeled data extracted from the BooksCorpus[4] with 800M words and English Wikipedia with 2,500M words.[5]', 'When BERT was published, it achieved state-of-the-art performance on a number of natural language understanding tasks:[1]', 'GLUE (General Language Understanding Evaluation) task set (consisting of 9 tasks)', 'SQuAD (Stanford Question Answering Dataset) v1.1 and v2.0', 'SWAG (Situations With Adversarial Generations)', \"The reasons for BERT's state-of-the-art performance on these natural language understanding tasks are not yet well understood.[6][7] Current research has focused on investigating the relationship behind BERT's output as a result of carefully chosen input sequences,[8][9] analysis of internal vector representations through probing classifiers,[10][11] and the relationships represented by attention weights.[6][7]\", 'BERT has its origins from pre-training contextual representations including Semi-supervised Sequence Learning,[12] Generative Pre-Training, ELMo,[13] and ULMFit.[14] Unlike previous models, BERT is a deeply bidirectional, unsupervised language representation, pre-trained using only a plain text corpus. Context-free models such as word2vec or GloVe generate a single word embedding representation for each word in the vocabulary, where BERT takes into account the context for each occurrence of a given word. For instance, whereas the vector for \"running\" will have the same word2vec vector representation for both of its occurrences in the sentences \"He is running a company\" and \"He is running a marathon\", BERT will provide a contextualized embedding that will be different according to the sentence.', 'On October 25, 2019, Google Search announced that they had started applying BERT models for English language search queries within the US.[15] On December 9, 2019, it was reported that BERT had been adopted by Google Search for over 70 languages.[16] In October 2020, almost every single English-based query was processed by BERT.[17]', 'BERT won the Best Long Paper Award at the 2019 Annual Conference of the North American Chapter of the Association for Computational Linguistics (NAACL).[18]', 'Transformer (machine learning model)', 'Document-term matrix', 'Neural network language models', 'a b c Devlin, Jacob; Chang, Ming-Wei; Lee, Kenton; Toutanova, Kristina (11 October 2018). \"BERT: Pre-training of Deep Bidirectional Transformers for Language Understanding\". arXiv:1810.04805v2 [cs.CL].', '^ \"Open Sourcing BERT: State-of-the-Art Pre-training for Natural Language Processing\". Google AI Blog. Retrieved 2019-11-27.', '^ \"Understanding searches better than ever before\". Google. 2019-10-25. Retrieved 2019-11-27.', '^ Zhu, Yukun; Kiros, Ryan; Zemel, Rich; Salakhutdinov, Ruslan; Urtasun, Raquel; Torralba, Antonio; Fidler, Sanja (2015). \"Aligning Books and Movies: Towards Story-Like Visual Explanations by Watching Movies and Reading Books\". pp.\\xa019–27. arXiv:1506.06724 [cs.CV].', '^ Annamoradnejad, Issa (2020-04-27). \"ColBERT: Using BERT Sentence Embedding for Humor Detection\". arXiv:2004.12765 [cs.CL].', 'a b Kovaleva, Olga; Romanov, Alexey; Rogers, Anna; Rumshisky, Anna (November 2019). \"Revealing the Dark Secrets of BERT\". Proceedings of the 2019 Conference on Empirical Methods in Natural Language Processing and the 9th International Joint Conference on Natural Language Processing (EMNLP-IJCNLP). pp.\\xa04364–4373. doi:10.18653/v1/D19-1445. S2CID\\xa0201645145.', 'a b Clark, Kevin; Khandelwal, Urvashi; Levy, Omer; Manning, Christopher D. (2019). \"What Does BERT Look at? An Analysis of BERT\\'s Attention\". Proceedings of the 2019 ACL Workshop BlackboxNLP: Analyzing and Interpreting Neural Networks for NLP. Stroudsburg, PA, USA: Association for Computational Linguistics: 276–286. doi:10.18653/v1/w19-4828.', '^ Khandelwal, Urvashi; He, He; Qi, Peng; Jurafsky, Dan (2018). \"Sharp Nearby, Fuzzy Far Away: How Neural Language Models Use Context\". Proceedings of the 56th Annual Meeting of the Association for Computational Linguistics (Volume 1: Long Papers). Stroudsburg, PA, USA: Association for Computational Linguistics: 284–294. arXiv:1805.04623. Bibcode:2018arXiv180504623K. doi:10.18653/v1/p18-1027. S2CID\\xa021700944.', '^ Gulordava, Kristina; Bojanowski, Piotr; Grave, Edouard; Linzen, Tal; Baroni, Marco (2018). \"Colorless Green Recurrent Networks Dream Hierarchically\". Proceedings of the 2018 Conference of the North American Chapter of the Association for Computational Linguistics: Human Language Technologies, Volume 1 (Long Papers). Stroudsburg, PA, USA: Association for Computational Linguistics: 1195–1205. arXiv:1803.11138. Bibcode:2018arXiv180311138G. doi:10.18653/v1/n18-1108. S2CID\\xa04460159.', '^ Giulianelli, Mario; Harding, Jack; Mohnert, Florian; Hupkes, Dieuwke; Zuidema, Willem (2018). \"Under the Hood: Using Diagnostic Classifiers to Investigate and Improve how Language Models Track Agreement Information\". Proceedings of the 2018 EMNLP Workshop BlackboxNLP: Analyzing and Interpreting Neural Networks for NLP. Stroudsburg, PA, USA: Association for Computational Linguistics: 240–248. arXiv:1808.08079. Bibcode:2018arXiv180808079G. doi:10.18653/v1/w18-5426. S2CID\\xa052090220.', '^ Zhang, Kelly; Bowman, Samuel (2018). \"Language Modeling Teaches You More than Translation Does: Lessons Learned Through Auxiliary Syntactic Task Analysis\". Proceedings of the 2018 EMNLP Workshop BlackboxNLP: Analyzing and Interpreting Neural Networks for NLP. Stroudsburg, PA, USA: Association for Computational Linguistics: 359–361. doi:10.18653/v1/w18-5448.', '^ Dai, Andrew; Le, Quoc (4 November 2015). \"Semi-supervised Sequence Learning\". arXiv:1511.01432 [cs.LG].', '^ Peters, Matthew; Neumann, Mark; Iyyer, Mohit; Gardner, Matt; Clark, Christopher; Lee, Kenton; Luke, Zettlemoyer (15 February 2018). \"Deep contextualized word representations\". arXiv:1802.05365v2 [cs.CL].', '^ Howard, Jeremy; Ruder, Sebastian (18 January 2018). \"Universal Language Model Fine-tuning for Text Classification\". arXiv:1801.06146v5 [cs.CL].', '^ Nayak, Pandu (25 October 2019). \"Understanding searches better than ever before\". Google Blog. Retrieved 10 December 2019.', '^ Montti, Roger (10 December 2019). \"Google\\'s BERT Rolls Out Worldwide\". Search Engine Journal. Search Engine Journal. Retrieved 10 December 2019.', '^ \"Google: BERT now used on almost every English query\". Search Engine Land. 2020-10-15. Retrieved 2020-11-24.', '^ \"Best Paper Awards\". NAACL. 2019. Retrieved Mar 28, 2020.', 'Further reading[edit]', 'Rogers, Anna; Kovaleva, Olga; Rumshisky, Anna (2020). \"A Primer in BERTology: What we know about how BERT works\". arXiv:2002.12327.', 'External links[edit]', 'Official GitHub repository', 'Natural language processing', 'Differentiable computing', 'Categories: Natural language processingComputational linguisticsSpeech recognitionComputational fields of studyArtificial intelligence', 'This page was last edited on 18 February 2021, at 00:32\\xa0(UTC).', 'Text is available under the Creative Commons Attribution-ShareAlike License; additional terms may apply. By using this site, you agree to the Terms of Use and Privacy Policy. Wikipedia® is a registered trademark of the Wikimedia Foundation, Inc., a non-profit organization.', 'https://en.wikipedia.org/wiki/BERT_(language_model)', '@question']\n",
            "contents ['Bidirectional Encoder Representations from Transformers (BERT) is a Transformer-based machine learning technique for natural language processing (NLP) pre-training developed by Google. BERT was created and published in 2018 by Jacob Devlin and his colleagues from Google.[1][2] As of 2019, Google has been leveraging BERT to better understand user searches.[3]', 'The original English-language BERT has two models:[1] (1) the BERTBASE: 12 Encoders with 12 bidirectional self-attention heads, and (2) the BERTLARGE: 24 Encoders with 24 bidirectional self-attention heads. Both models are pre-trained from unlabeled data extracted from the BooksCorpus[4] with 800M words and English Wikipedia with 2,500M words.[5]', \"The reasons for BERT's state-of-the-art performance on these natural language understanding tasks are not yet well understood.[6][7] Current research has focused on investigating the relationship behind BERT's output as a result of carefully chosen input sequences,[8][9] analysis of internal vector representations through probing classifiers,[10][11] and the relationships represented by attention weights.[6][7]\", 'BERT has its origins from pre-training contextual representations including Semi-supervised Sequence Learning,[12] Generative Pre-Training, ELMo,[13] and ULMFit.[14] Unlike previous models, BERT is a deeply bidirectional, unsupervised language representation, pre-trained using only a plain text corpus. Context-free models such as word2vec or GloVe generate a single word embedding representation for each word in the vocabulary, where BERT takes into account the context for each occurrence of a given word. For instance, whereas the vector for \"running\" will have the same word2vec vector representation for both of its occurrences in the sentences \"He is running a company\" and \"He is running a marathon\", BERT will provide a contextualized embedding that will be different according to the sentence.', 'On October 25, 2019, Google Search announced that they had started applying BERT models for English language search queries within the US.[15] On December 9, 2019, it was reported that BERT had been adopted by Google Search for over 70 languages.[16] In October 2020, almost every single English-based query was processed by BERT.[17]', 'BERT won the Best Long Paper Award at the 2019 Annual Conference of the North American Chapter of the Association for Computational Linguistics (NAACL).[18]', 'a b c Devlin, Jacob; Chang, Ming-Wei; Lee, Kenton; Toutanova, Kristina (11 October 2018). \"BERT: Pre-training of Deep Bidirectional Transformers for Language Understanding\". arXiv:1810.04805v2 [cs.CL].', '^ Zhu, Yukun; Kiros, Ryan; Zemel, Rich; Salakhutdinov, Ruslan; Urtasun, Raquel; Torralba, Antonio; Fidler, Sanja (2015). \"Aligning Books and Movies: Towards Story-Like Visual Explanations by Watching Movies and Reading Books\". pp.\\xa019–27. arXiv:1506.06724 [cs.CV].', 'a b Kovaleva, Olga; Romanov, Alexey; Rogers, Anna; Rumshisky, Anna (November 2019). \"Revealing the Dark Secrets of BERT\". Proceedings of the 2019 Conference on Empirical Methods in Natural Language Processing and the 9th International Joint Conference on Natural Language Processing (EMNLP-IJCNLP). pp.\\xa04364–4373. doi:10.18653/v1/D19-1445. S2CID\\xa0201645145.', 'a b Clark, Kevin; Khandelwal, Urvashi; Levy, Omer; Manning, Christopher D. (2019). \"What Does BERT Look at? An Analysis of BERT\\'s Attention\". Proceedings of the 2019 ACL Workshop BlackboxNLP: Analyzing and Interpreting Neural Networks for NLP. Stroudsburg, PA, USA: Association for Computational Linguistics: 276–286. doi:10.18653/v1/w19-4828.', '^ Khandelwal, Urvashi; He, He; Qi, Peng; Jurafsky, Dan (2018). \"Sharp Nearby, Fuzzy Far Away: How Neural Language Models Use Context\". Proceedings of the 56th Annual Meeting of the Association for Computational Linguistics (Volume 1: Long Papers). Stroudsburg, PA, USA: Association for Computational Linguistics: 284–294. arXiv:1805.04623. Bibcode:2018arXiv180504623K. doi:10.18653/v1/p18-1027. S2CID\\xa021700944.', '^ Gulordava, Kristina; Bojanowski, Piotr; Grave, Edouard; Linzen, Tal; Baroni, Marco (2018). \"Colorless Green Recurrent Networks Dream Hierarchically\". Proceedings of the 2018 Conference of the North American Chapter of the Association for Computational Linguistics: Human Language Technologies, Volume 1 (Long Papers). Stroudsburg, PA, USA: Association for Computational Linguistics: 1195–1205. arXiv:1803.11138. Bibcode:2018arXiv180311138G. doi:10.18653/v1/n18-1108. S2CID\\xa04460159.', '^ Giulianelli, Mario; Harding, Jack; Mohnert, Florian; Hupkes, Dieuwke; Zuidema, Willem (2018). \"Under the Hood: Using Diagnostic Classifiers to Investigate and Improve how Language Models Track Agreement Information\". Proceedings of the 2018 EMNLP Workshop BlackboxNLP: Analyzing and Interpreting Neural Networks for NLP. Stroudsburg, PA, USA: Association for Computational Linguistics: 240–248. arXiv:1808.08079. Bibcode:2018arXiv180808079G. doi:10.18653/v1/w18-5426. S2CID\\xa052090220.', '^ Zhang, Kelly; Bowman, Samuel (2018). \"Language Modeling Teaches You More than Translation Does: Lessons Learned Through Auxiliary Syntactic Task Analysis\". Proceedings of the 2018 EMNLP Workshop BlackboxNLP: Analyzing and Interpreting Neural Networks for NLP. Stroudsburg, PA, USA: Association for Computational Linguistics: 359–361. doi:10.18653/v1/w18-5448.', '^ Peters, Matthew; Neumann, Mark; Iyyer, Mohit; Gardner, Matt; Clark, Christopher; Lee, Kenton; Luke, Zettlemoyer (15 February 2018). \"Deep contextualized word representations\". arXiv:1802.05365v2 [cs.CL].', '^ Montti, Roger (10 December 2019). \"Google\\'s BERT Rolls Out Worldwide\". Search Engine Journal. Search Engine Journal. Retrieved 10 December 2019.', 'Text is available under the Creative Commons Attribution-ShareAlike License; additional terms may apply. By using this site, you agree to the Terms of Use and Privacy Policy. Wikipedia® is a registered trademark of the Wikimedia Foundation, Inc., a non-profit organization.']\n",
            "number of paragraphs:  17\n",
            "Question is:  Are the data pre-trained?\n",
            "Contents are:  ['Bidirectional Encoder Representations from Transformers (BERT) is a Transformer-based machine learning technique for natural language processing (NLP) pre-training developed by Google. BERT was created and published in 2018 by Jacob Devlin and his colleagues from Google.[1][2] As of 2019, Google has been leveraging BERT to better understand user searches.[3]', 'The original English-language BERT has two models:[1] (1) the BERTBASE: 12 Encoders with 12 bidirectional self-attention heads, and (2) the BERTLARGE: 24 Encoders with 24 bidirectional self-attention heads. Both models are pre-trained from unlabeled data extracted from the BooksCorpus[4] with 800M words and English Wikipedia with 2,500M words.[5]', \"The reasons for BERT's state-of-the-art performance on these natural language understanding tasks are not yet well understood.[6][7] Current research has focused on investigating the relationship behind BERT's output as a result of carefully chosen input sequences,[8][9] analysis of internal vector representations through probing classifiers,[10][11] and the relationships represented by attention weights.[6][7]\", 'BERT has its origins from pre-training contextual representations including Semi-supervised Sequence Learning,[12] Generative Pre-Training, ELMo,[13] and ULMFit.[14] Unlike previous models, BERT is a deeply bidirectional, unsupervised language representation, pre-trained using only a plain text corpus. Context-free models such as word2vec or GloVe generate a single word embedding representation for each word in the vocabulary, where BERT takes into account the context for each occurrence of a given word. For instance, whereas the vector for \"running\" will have the same word2vec vector representation for both of its occurrences in the sentences \"He is running a company\" and \"He is running a marathon\", BERT will provide a contextualized embedding that will be different according to the sentence.', 'On October 25, 2019, Google Search announced that they had started applying BERT models for English language search queries within the US.[15] On December 9, 2019, it was reported that BERT had been adopted by Google Search for over 70 languages.[16] In October 2020, almost every single English-based query was processed by BERT.[17]', 'BERT won the Best Long Paper Award at the 2019 Annual Conference of the North American Chapter of the Association for Computational Linguistics (NAACL).[18]', 'a b c Devlin, Jacob; Chang, Ming-Wei; Lee, Kenton; Toutanova, Kristina (11 October 2018). \"BERT: Pre-training of Deep Bidirectional Transformers for Language Understanding\". arXiv:1810.04805v2 [cs.CL].', '^ Zhu, Yukun; Kiros, Ryan; Zemel, Rich; Salakhutdinov, Ruslan; Urtasun, Raquel; Torralba, Antonio; Fidler, Sanja (2015). \"Aligning Books and Movies: Towards Story-Like Visual Explanations by Watching Movies and Reading Books\". pp.\\xa019–27. arXiv:1506.06724 [cs.CV].', 'a b Kovaleva, Olga; Romanov, Alexey; Rogers, Anna; Rumshisky, Anna (November 2019). \"Revealing the Dark Secrets of BERT\". Proceedings of the 2019 Conference on Empirical Methods in Natural Language Processing and the 9th International Joint Conference on Natural Language Processing (EMNLP-IJCNLP). pp.\\xa04364–4373. doi:10.18653/v1/D19-1445. S2CID\\xa0201645145.', 'a b Clark, Kevin; Khandelwal, Urvashi; Levy, Omer; Manning, Christopher D. (2019). \"What Does BERT Look at? An Analysis of BERT\\'s Attention\". Proceedings of the 2019 ACL Workshop BlackboxNLP: Analyzing and Interpreting Neural Networks for NLP. Stroudsburg, PA, USA: Association for Computational Linguistics: 276–286. doi:10.18653/v1/w19-4828.', '^ Khandelwal, Urvashi; He, He; Qi, Peng; Jurafsky, Dan (2018). \"Sharp Nearby, Fuzzy Far Away: How Neural Language Models Use Context\". Proceedings of the 56th Annual Meeting of the Association for Computational Linguistics (Volume 1: Long Papers). Stroudsburg, PA, USA: Association for Computational Linguistics: 284–294. arXiv:1805.04623. Bibcode:2018arXiv180504623K. doi:10.18653/v1/p18-1027. S2CID\\xa021700944.', '^ Gulordava, Kristina; Bojanowski, Piotr; Grave, Edouard; Linzen, Tal; Baroni, Marco (2018). \"Colorless Green Recurrent Networks Dream Hierarchically\". Proceedings of the 2018 Conference of the North American Chapter of the Association for Computational Linguistics: Human Language Technologies, Volume 1 (Long Papers). Stroudsburg, PA, USA: Association for Computational Linguistics: 1195–1205. arXiv:1803.11138. Bibcode:2018arXiv180311138G. doi:10.18653/v1/n18-1108. S2CID\\xa04460159.', '^ Giulianelli, Mario; Harding, Jack; Mohnert, Florian; Hupkes, Dieuwke; Zuidema, Willem (2018). \"Under the Hood: Using Diagnostic Classifiers to Investigate and Improve how Language Models Track Agreement Information\". Proceedings of the 2018 EMNLP Workshop BlackboxNLP: Analyzing and Interpreting Neural Networks for NLP. Stroudsburg, PA, USA: Association for Computational Linguistics: 240–248. arXiv:1808.08079. Bibcode:2018arXiv180808079G. doi:10.18653/v1/w18-5426. S2CID\\xa052090220.', '^ Zhang, Kelly; Bowman, Samuel (2018). \"Language Modeling Teaches You More than Translation Does: Lessons Learned Through Auxiliary Syntactic Task Analysis\". Proceedings of the 2018 EMNLP Workshop BlackboxNLP: Analyzing and Interpreting Neural Networks for NLP. Stroudsburg, PA, USA: Association for Computational Linguistics: 359–361. doi:10.18653/v1/w18-5448.', '^ Peters, Matthew; Neumann, Mark; Iyyer, Mohit; Gardner, Matt; Clark, Christopher; Lee, Kenton; Luke, Zettlemoyer (15 February 2018). \"Deep contextualized word representations\". arXiv:1802.05365v2 [cs.CL].', '^ Montti, Roger (10 December 2019). \"Google\\'s BERT Rolls Out Worldwide\". Search Engine Journal. Search Engine Journal. Retrieved 10 December 2019.', 'Text is available under the Creative Commons Attribution-ShareAlike License; additional terms may apply. By using this site, you agree to the Terms of Use and Privacy Policy. Wikipedia® is a registered trademark of the Wikimedia Foundation, Inc., a non-profit organization.']\n",
            "URL is  https://en.wikipedia.org/wiki/BERT_(language_model)\n",
            "is answer False\n",
            "old answer is:  \n"
          ],
          "name": "stdout"
        },
        {
          "output_type": "stream",
          "text": [
            "127.0.0.1 - - [16/Mar/2021 04:33:59] \"\u001b[37mPOST /api/query HTTP/1.1\u001b[0m\" 200 -\n"
          ],
          "name": "stderr"
        },
        {
          "output_type": "stream",
          "text": [
            "add_qa Both models are pre-trained from unlabeled data extracted from the BooksCorpus[%$Current research has focused on investigating the relationship behind BERT's output as a result of carefully chosen input sequences,[8][9] analysis of internal vector representations through probing classifiers,[10][11] and the relationships represented by attention weights.[%$pre-trained using only a plain text corpus.%$Pre-training of Deep Bidirectional Transformers for Language Understanding\"\n",
            "Both models are pre-trained from unlabeled data extracted from the BooksCorpus[%$Current research has focused on investigating the relationship behind BERT's output as a result of carefully chosen input sequences,[8][9] analysis of internal vector representations through probing classifiers,[10][11] and the relationships represented by attention weights.[%$pre-trained using only a plain text corpus.%$Pre-training of Deep Bidirectional Transformers for Language Understanding\"\n",
            "Answer:  Both models are pre-trained from unlabeled data extracted from the BooksCorpus[%$Current research has focused on investigating the relationship behind BERT's output as a result of carefully chosen input sequences,[8][9] analysis of internal vector representations through probing classifiers,[10][11] and the relationships represented by attention weights.[%$pre-trained using only a plain text corpus.%$Pre-training of Deep Bidirectional Transformers for Language Understanding\"\n"
          ],
          "name": "stdout"
        }
      ]
    },
    {
      "cell_type": "code",
      "metadata": {
        "id": "pUUTASPehHL3"
      },
      "source": [
        "\r\n"
      ],
      "execution_count": null,
      "outputs": []
    }
  ]
}